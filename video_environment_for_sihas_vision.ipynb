{
  "nbformat": 4,
  "nbformat_minor": 0,
  "metadata": {
    "colab": {
      "provenance": [],
      "authorship_tag": "ABX9TyMAIectbhGRVYDuAztmEmnm",
      "include_colab_link": true
    },
    "kernelspec": {
      "name": "python3",
      "display_name": "Python 3"
    },
    "language_info": {
      "name": "python"
    }
  },
  "cells": [
    {
      "cell_type": "markdown",
      "metadata": {
        "id": "view-in-github",
        "colab_type": "text"
      },
      "source": [
        "<a href=\"https://colab.research.google.com/github/marlanbranda/git_apprendre/blob/main/video_environment_for_sihas_vision.ipynb\" target=\"_parent\"><img src=\"https://colab.research.google.com/assets/colab-badge.svg\" alt=\"Open In Colab\"/></a>"
      ]
    },
    {
      "cell_type": "markdown",
      "source": [
        "to be able to train and test yolo models, we need a data first. In this notebook, data will be prepared."
      ],
      "metadata": {
        "id": "jApSvUyCWSaW"
      }
    },
    {
      "cell_type": "code",
      "execution_count": 1,
      "metadata": {
        "colab": {
          "base_uri": "https://localhost:8080/"
        },
        "id": "in_KyLnIV3FP",
        "outputId": "5a2fae0e-5d00-48fa-98b9-64e926cee60e"
      },
      "outputs": [
        {
          "output_type": "stream",
          "name": "stdout",
          "text": [
            "Looking in indexes: https://pypi.org/simple, https://us-python.pkg.dev/colab-wheels/public/simple/\n",
            "Collecting wget\n",
            "  Downloading wget-3.2.zip (10 kB)\n",
            "  Preparing metadata (setup.py) ... \u001b[?25l\u001b[?25hdone\n",
            "Building wheels for collected packages: wget\n",
            "  Building wheel for wget (setup.py) ... \u001b[?25l\u001b[?25hdone\n",
            "  Created wheel for wget: filename=wget-3.2-py3-none-any.whl size=9674 sha256=b793d6b87a7ed0730621cd7f1b74fcc7b9e70bffcf0899f56bc715bf592e47fd\n",
            "  Stored in directory: /root/.cache/pip/wheels/bd/a8/c3/3cf2c14a1837a4e04bd98631724e81f33f462d86a1d895fae0\n",
            "Successfully built wget\n",
            "Installing collected packages: wget\n",
            "Successfully installed wget-3.2\n"
          ]
        }
      ],
      "source": [
        "!pip install wget"
      ]
    },
    {
      "cell_type": "code",
      "source": [
        "import os\n",
        "import wget\n",
        "\n",
        "path = \"trial_folder\"\n",
        "\n",
        "download_path = \"https://drive.google.com/uc?id=1qvcn3LCbsQwI6lo84yztKTe3SGnCnXDI&export=download\"\n",
        "\n",
        "\n",
        "if not os.path.exists(path):\n",
        "    try:\n",
        "        os.mkdir(path)\n",
        "    except OSError:\n",
        "        print(\"Creation of the directory %s failed\" % path)\n",
        "    else:\n",
        "        print(\"Successfully created the directory %s \" % path)\n",
        "\n",
        "file_name = wget.download(download_path, out=path)\n",
        "\n"
      ],
      "metadata": {
        "id": "UE3ZE-QsWQ_i"
      },
      "execution_count": 7,
      "outputs": []
    },
    {
      "cell_type": "code",
      "source": [
        "# this block erases all the objects in the trial folder,\n",
        "# I purposefully commented out the last line to protect from any accident\n",
        "\n",
        "import os\n",
        "\n",
        "trial_folder = \"trial_folder\"\n",
        "\n",
        "curr_dir = os.path.join('/content', trial_folder)\n",
        "\n",
        "os.chdir(curr_dir)\n",
        "\n",
        "for elem in os.listdir(curr_dir):\n",
        "  if elem != \".ipynb_checkpoints\":\n",
        "    pass\n",
        "    # os.remove(elem)"
      ],
      "metadata": {
        "id": "qwwbiaP0dIsN"
      },
      "execution_count": 25,
      "outputs": []
    }
  ]
}